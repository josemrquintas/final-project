{
 "cells": [
  {
   "cell_type": "code",
   "execution_count": 8,
   "metadata": {},
   "outputs": [],
   "source": [
    "import sys\n",
    "import csv\n",
    "import tweepy\n",
    "import pandas as pd\n",
    "\n",
    "consumer_key = \"xMqbF6gGhWHWPUg9xw5ziJZpK\"\n",
    "consumer_secret = \"RPGgCCRFD2VpyfcPpEVjPbCYPlFIi2cTEImz6BNWzkIXGekibx\"\n",
    "access_key = \"1119208863574708224-FwHs7oMskXgPAocqA81D5HrOdwV6tA\"\n",
    "access_secret = \"hmlim46RNtaHkFBIHWYYKACAKsUtvsu59YViEjW0bnZ2J\"\n",
    "\n",
    "\n",
    "def get_tweets(username):\n",
    "\n",
    "\t#http://tweepy.readthedocs.org/en/v3.1.0/getting_started.html#api\n",
    "\tauth = tweepy.OAuthHandler(consumer_key, consumer_secret)\n",
    "\tauth.set_access_token(access_key, access_secret)\n",
    "\tapi = tweepy.API(auth)\n",
    "\n",
    "\t#set count to however many tweets you want\n",
    "\tnumber_of_tweets = 100\n",
    "\n",
    "\t#get tweets\n",
    "\ttweets_for_csv = []\n",
    "\tfor tweet in tweepy.Cursor(api.user_timeline, screen_name = username).items(number_of_tweets):\n",
    "        #create array of tweet information: username, tweet id, date/time, text\n",
    "\t\ttweets_for_csv.append([username, tweet.id_str, tweet.created_at, tweet.text.encode(\"utf-8\")])\n",
    "\n",
    "\t#write to a new csv file from the array of tweets\n",
    "\toutfile = username + \"_tweets.csv\"\n",
    "\tprint( \"writing to \" + outfile)\n",
    "\twith open(outfile, 'w+') as file:\n",
    "\t\twriter = csv.writer(file, delimiter=',')\n",
    "\t\twriter.writerows(tweets_for_csv)"
   ]
  },
  {
   "cell_type": "code",
   "execution_count": 6,
   "metadata": {},
   "outputs": [
    {
     "name": "stdout",
     "output_type": "stream",
     "text": [
      "writing to jmrquintas1_tweets.csv\n"
     ]
    }
   ],
   "source": [
    "get_tweets('jmrquintas1')"
   ]
  },
  {
   "cell_type": "code",
   "execution_count": 12,
   "metadata": {},
   "outputs": [
    {
     "data": {
      "text/html": [
       "<div>\n",
       "<style scoped>\n",
       "    .dataframe tbody tr th:only-of-type {\n",
       "        vertical-align: middle;\n",
       "    }\n",
       "\n",
       "    .dataframe tbody tr th {\n",
       "        vertical-align: top;\n",
       "    }\n",
       "\n",
       "    .dataframe thead th {\n",
       "        text-align: right;\n",
       "    }\n",
       "</style>\n",
       "<table border=\"1\" class=\"dataframe\">\n",
       "  <thead>\n",
       "    <tr style=\"text-align: right;\">\n",
       "      <th></th>\n",
       "      <th>jmrquintas1</th>\n",
       "      <th>1166869704159498240</th>\n",
       "      <th>2019-08-29 00:26:31</th>\n",
       "      <th>b'@EurosportTV_Por @EurosportTV_Por est\\xc3\\xa1 a ser um jogo excepcional, e com excelente coment\\xc3\\xa1rio. Pergunto-me se esta l\\xe2\\x80\\xa6 https://t.co/ZSwgGC83cY'</th>\n",
       "    </tr>\n",
       "  </thead>\n",
       "  <tbody>\n",
       "    <tr>\n",
       "      <th>0</th>\n",
       "      <td>jmrquintas1</td>\n",
       "      <td>1166868993153650689</td>\n",
       "      <td>2019-08-29 00:23:42</td>\n",
       "      <td>b'@EurosportTV_Por est\\xc3\\xa1 a ser um jogo e...</td>\n",
       "    </tr>\n",
       "    <tr>\n",
       "      <th>1</th>\n",
       "      <td>jmrquintas1</td>\n",
       "      <td>1155782265361829888</td>\n",
       "      <td>2019-07-29 10:09:00</td>\n",
       "      <td>b'@ggreenwald God... \\n\\nGlenn, very sorry for...</td>\n",
       "    </tr>\n",
       "    <tr>\n",
       "      <th>2</th>\n",
       "      <td>jmrquintas1</td>\n",
       "      <td>1154043153013305345</td>\n",
       "      <td>2019-07-24 14:58:23</td>\n",
       "      <td>b'@vueling @olgacrvnts Ridiculous. Never flyin...</td>\n",
       "    </tr>\n",
       "  </tbody>\n",
       "</table>\n",
       "</div>"
      ],
      "text/plain": [
       "   jmrquintas1  1166869704159498240  2019-08-29 00:26:31  \\\n",
       "0  jmrquintas1  1166868993153650689  2019-08-29 00:23:42   \n",
       "1  jmrquintas1  1155782265361829888  2019-07-29 10:09:00   \n",
       "2  jmrquintas1  1154043153013305345  2019-07-24 14:58:23   \n",
       "\n",
       "  b'@EurosportTV_Por @EurosportTV_Por est\\xc3\\xa1 a ser um jogo excepcional, e com excelente coment\\xc3\\xa1rio. Pergunto-me se esta l\\xe2\\x80\\xa6 https://t.co/ZSwgGC83cY'  \n",
       "0  b'@EurosportTV_Por est\\xc3\\xa1 a ser um jogo e...                                                                                                                        \n",
       "1  b'@ggreenwald God... \\n\\nGlenn, very sorry for...                                                                                                                        \n",
       "2  b'@vueling @olgacrvnts Ridiculous. Never flyin...                                                                                                                        "
      ]
     },
     "execution_count": 12,
     "metadata": {},
     "output_type": "execute_result"
    }
   ],
   "source": [
    "tweet = pd.read_csv('jmrquintas1_tweets.csv', names = ['user', 'userid'])"
   ]
  },
  {
   "cell_type": "code",
   "execution_count": null,
   "metadata": {},
   "outputs": [],
   "source": [
    "import unicodedata\n",
    "unicodedata.normalize('NFKD', tweet.text).encode('ascii','ignore')"
   ]
  }
 ],
 "metadata": {
  "kernelspec": {
   "display_name": "Python 3",
   "language": "python",
   "name": "python3"
  },
  "language_info": {
   "codemirror_mode": {
    "name": "ipython",
    "version": 3
   },
   "file_extension": ".py",
   "mimetype": "text/x-python",
   "name": "python",
   "nbconvert_exporter": "python",
   "pygments_lexer": "ipython3",
   "version": "3.7.6"
  }
 },
 "nbformat": 4,
 "nbformat_minor": 4
}
