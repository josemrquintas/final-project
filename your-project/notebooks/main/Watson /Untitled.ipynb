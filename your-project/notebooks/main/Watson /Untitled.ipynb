{
 "cells": [
  {
   "cell_type": "code",
   "execution_count": 2,
   "metadata": {},
   "outputs": [],
   "source": [
    "\n",
    "\n",
    "import sys\n",
    "import operator\n",
    "import requests\n",
    "import json\n",
    "import twitter\n",
    "from watson_developer_cloud import PersonalityInsightsV3 as PersonalityInsights\n",
    "\n"
   ]
  },
  {
   "cell_type": "code",
   "execution_count": 7,
   "metadata": {},
   "outputs": [
    {
     "ename": "NameError",
     "evalue": "name 'tweepy' is not defined",
     "output_type": "error",
     "traceback": [
      "\u001b[0;31m---------------------------------------------------------------------------\u001b[0m",
      "\u001b[0;31mNameError\u001b[0m                                 Traceback (most recent call last)",
      "\u001b[0;32m<ipython-input-7-a160a8a223d4>\u001b[0m in \u001b[0;36m<module>\u001b[0;34m\u001b[0m\n\u001b[1;32m      5\u001b[0m \u001b[0;34m\u001b[0m\u001b[0m\n\u001b[1;32m      6\u001b[0m \u001b[0;34m\u001b[0m\u001b[0m\n\u001b[0;32m----> 7\u001b[0;31m \u001b[0mauth\u001b[0m \u001b[0;34m=\u001b[0m \u001b[0mtweepy\u001b[0m\u001b[0;34m.\u001b[0m\u001b[0mOAuthHandler\u001b[0m\u001b[0;34m(\u001b[0m\u001b[0mconsumerkey\u001b[0m\u001b[0;34m,\u001b[0m \u001b[0mconsumersecret\u001b[0m\u001b[0;34m)\u001b[0m\u001b[0;34m\u001b[0m\u001b[0;34m\u001b[0m\u001b[0m\n\u001b[0m\u001b[1;32m      8\u001b[0m \u001b[0mauth\u001b[0m\u001b[0;34m.\u001b[0m\u001b[0mset_access_token\u001b[0m\u001b[0;34m(\u001b[0m\u001b[0maccesskey\u001b[0m\u001b[0;34m,\u001b[0m \u001b[0maccesssecret\u001b[0m\u001b[0;34m)\u001b[0m\u001b[0;34m\u001b[0m\u001b[0;34m\u001b[0m\u001b[0m\n\u001b[1;32m      9\u001b[0m \u001b[0mapi\u001b[0m \u001b[0;34m=\u001b[0m \u001b[0mtweepy\u001b[0m\u001b[0;34m.\u001b[0m\u001b[0mAPI\u001b[0m\u001b[0;34m(\u001b[0m\u001b[0mauth\u001b[0m\u001b[0;34m)\u001b[0m\u001b[0;34m\u001b[0m\u001b[0;34m\u001b[0m\u001b[0m\n",
      "\u001b[0;31mNameError\u001b[0m: name 'tweepy' is not defined"
     ]
    }
   ],
   "source": [
    "twitter_consumer_key = 'xMqbF6gGhWHWPUg9xw5ziJZpK'  \n",
    "twitter_consumer_secret = 'RPGgCCRFD2VpyfcPpEVjPbCYPlFIi2cTEImz6BNWzkIXGekibx'  \n",
    "twitter_access_token = '1119208863574708224-8u7FN6EBWtownbm2StswP7qU6ksIRV'  \n",
    "twitter_access_secret = 'H8eXvV6dLJV5Fsmr7eaF1PyNExoXgVaqL1vH3qGFRijZ0'\n",
    "\n",
    "\n",
    "auth = tweepy.OAuthHandler(consumerkey, consumersecret)\n",
    "auth.set_access_token(accesskey, accesssecret)\n",
    "api = tweepy.API(auth)"
   ]
  },
  {
   "cell_type": "code",
   "execution_count": null,
   "metadata": {},
   "outputs": [],
   "source": [
    "statuses = twitter_api.GetUserTimeline(screen_name=handle, count=200, include_rts=False)\n",
    "\n",
    "text = \"\"\n",
    "\n",
    "for status in statuses:\n",
    "    if (status.lang =='en'):\n",
    "        text += status.text.encode('utf-8')"
   ]
  },
  {
   "cell_type": "code",
   "execution_count": null,
   "metadata": {},
   "outputs": [],
   "source": [
    "#The IBM Bluemix credentials for Personality Insights!\n",
    "pi_username = 'VA5FxxE5asUu3h2hUWZw17iXqxIoshi90YdDjSJgQgbj'\n",
    "pi_password = 'https://api.eu-gb.personality-insights.watson.cloud.ibm.com/instances/0a14be52-588b-406b-be32-d69c5047a806'\n",
    "\n",
    "personality_insights = PersonalityInsights(username=pi_username, password=pi_password) \n",
    "\n",
    "\n",
    "def analyze(handle): \n",
    "  pi_result = personality_insights.profile(text)\n",
    "  return pi_result"
   ]
  }
 ],
 "metadata": {
  "kernelspec": {
   "display_name": "Python 3",
   "language": "python",
   "name": "python3"
  },
  "language_info": {
   "codemirror_mode": {
    "name": "ipython",
    "version": 3
   },
   "file_extension": ".py",
   "mimetype": "text/x-python",
   "name": "python",
   "nbconvert_exporter": "python",
   "pygments_lexer": "ipython3",
   "version": "3.7.6"
  }
 },
 "nbformat": 4,
 "nbformat_minor": 4
}
