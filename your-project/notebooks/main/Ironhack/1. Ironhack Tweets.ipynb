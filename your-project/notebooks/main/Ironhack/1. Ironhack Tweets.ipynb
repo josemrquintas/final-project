{
 "cells": [
  {
   "cell_type": "code",
   "execution_count": 1,
   "metadata": {},
   "outputs": [],
   "source": [
    "import tweepy #https://github.com/tweepy/tweepy\n",
    "import csv\n",
    "\n",
    "#Twitter API credentials\n",
    "consumerkey = 'NDN3JOe0UuKxKa7pPnl3PBPAg'\n",
    "consumersecret = 't0QNHW7NkAQrp0a456rsgakXAfB4ZfNvRHwAYO9sMFTsRyqyj6'\n",
    "accesskey = '1119208863574708224-9Fnlbd6BdvXJcfpPZX9soHkeesPRw7'\n",
    "accesssecret = 'j5LIk7XbxLOjQCuGEKVu9wJ6D7iuC0hyAzgKxOTwEXfvn'\n",
    "\n",
    "auth = tweepy.OAuthHandler(consumerkey, consumersecret)\n",
    "auth.set_access_token(accesskey, accesssecret)\n",
    "api = tweepy.API(auth)"
   ]
  },
  {
   "cell_type": "code",
   "execution_count": 3,
   "metadata": {},
   "outputs": [],
   "source": [
    "tweets = api.user_timeline(screen_name='ironhack', count = 100)"
   ]
  },
  {
   "cell_type": "code",
   "execution_count": 10,
   "metadata": {},
   "outputs": [],
   "source": [
    "list_tweets = [tweets[x]._json['id'] for x in range(len(tweets))]"
   ]
  },
  {
   "cell_type": "code",
   "execution_count": 11,
   "metadata": {},
   "outputs": [
    {
     "data": {
      "text/plain": [
       "[1129447396084207616,\n",
       " 1108821790263074816,\n",
       " 1101179773336895488,\n",
       " 1093903562915135489,\n",
       " 1090689399933804546,\n",
       " 1083482927340634115,\n",
       " 1070718560740302848,\n",
       " 1069554150105653250,\n",
       " 1059583351131123712,\n",
       " 1053544448322428928,\n",
       " 1052994880803414016,\n",
       " 1051790216653082624,\n",
       " 1050013232457342977,\n",
       " 1049402301247606787,\n",
       " 1049326435595419648,\n",
       " 1048150102970458112,\n",
       " 1047951398955048961,\n",
       " 1046771454866595841,\n",
       " 1046771423321174016,\n",
       " 1044233433952784384,\n",
       " 1042525628875071488,\n",
       " 1042511816759431174,\n",
       " 1040579906277699585,\n",
       " 1037770639002791936,\n",
       " 1036601169718771712,\n",
       " 1036562037655199745,\n",
       " 1036561243409186817,\n",
       " 1036535026253475840,\n",
       " 1034355154655621121,\n",
       " 1032721518583787521,\n",
       " 1030485899652419585,\n",
       " 1026479601810370560,\n",
       " 1025107323189161984,\n",
       " 1024253389146927104,\n",
       " 1017525948550451202,\n",
       " 1017365953099849729,\n",
       " 1014637183548968960,\n",
       " 1014095547920273409,\n",
       " 1014027868060430336,\n",
       " 1010481360467824640,\n",
       " 1010481242863755264,\n",
       " 1009551723764076544,\n",
       " 1008275048732545026,\n",
       " 1008274696880705536,\n",
       " 1006542017520906247,\n",
       " 1006182203938758658,\n",
       " 1004408309041033217,\n",
       " 1004056779821547520,\n",
       " 1002845712764358656,\n",
       " 1000528511386443777,\n",
       " 1000528443963072514,\n",
       " 999599368771653632,\n",
       " 999455096571383810,\n",
       " 997384379096813569,\n",
       " 997219061678465025,\n",
       " 997163173500375041,\n",
       " 995002974710706177,\n",
       " 993954299712557063,\n",
       " 993950196185911302,\n",
       " 993542907952009217,\n",
       " 993507255235596288,\n",
       " 991823517258838016,\n",
       " 988339265368190981,\n",
       " 987768166335041536,\n",
       " 987208588979507200,\n",
       " 986726369722761216,\n",
       " 986158216093585408,\n",
       " 985249171908235264,\n",
       " 984807622896386048,\n",
       " 984382096092352514,\n",
       " 983678022984388610,\n",
       " 982231882086563843,\n",
       " 981935648553816065,\n",
       " 981903452774305792,\n",
       " 981655445701046272,\n",
       " 980350092795432960,\n",
       " 979402939537264641,\n",
       " 974989216093560832,\n",
       " 974988976653328384,\n",
       " 974988892649742336,\n",
       " 974988864715714560,\n",
       " 973990788626558978,\n",
       " 973806168949886976,\n",
       " 973805682146316288,\n",
       " 973805493926989825,\n",
       " 973263119777746944,\n",
       " 972271970208419841,\n",
       " 972169068462657537,\n",
       " 972157334490402818,\n",
       " 969170084806701058,\n",
       " 968558370105057283,\n",
       " 968533857954947072,\n",
       " 964461639041998848,\n",
       " 964461162434826240,\n",
       " 963132315445555200,\n",
       " 963098766336233473,\n",
       " 962253861460246528,\n",
       " 961851981642919937,\n",
       " 961770829100077056]"
      ]
     },
     "execution_count": 11,
     "metadata": {},
     "output_type": "execute_result"
    }
   ],
   "source": [
    "list_tweets"
   ]
  },
  {
   "cell_type": "code",
   "execution_count": 51,
   "metadata": {},
   "outputs": [],
   "source": [
    "status = api.retweeters(id= str(list_tweets[3]))"
   ]
  },
  {
   "cell_type": "code",
   "execution_count": 53,
   "metadata": {},
   "outputs": [
    {
     "data": {
      "text/plain": [
       "[]"
      ]
     },
     "execution_count": 53,
     "metadata": {},
     "output_type": "execute_result"
    }
   ],
   "source": [
    "status"
   ]
  },
  {
   "cell_type": "code",
   "execution_count": 41,
   "metadata": {},
   "outputs": [
    {
     "data": {
      "text/plain": [
       "'#ironhackMAD'"
      ]
     },
     "execution_count": 41,
     "metadata": {},
     "output_type": "execute_result"
    }
   ],
   "source": [
    "tweet[3].hashtags"
   ]
  },
  {
   "cell_type": "code",
   "execution_count": null,
   "metadata": {},
   "outputs": [],
   "source": []
  }
 ],
 "metadata": {
  "kernelspec": {
   "display_name": "Python 3",
   "language": "python",
   "name": "python3"
  },
  "language_info": {
   "codemirror_mode": {
    "name": "ipython",
    "version": 3
   },
   "file_extension": ".py",
   "mimetype": "text/x-python",
   "name": "python",
   "nbconvert_exporter": "python",
   "pygments_lexer": "ipython3",
   "version": "3.7.6"
  }
 },
 "nbformat": 4,
 "nbformat_minor": 4
}
