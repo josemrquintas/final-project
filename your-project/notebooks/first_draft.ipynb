{
 "cells": [
  {
   "cell_type": "code",
   "execution_count": 14,
   "metadata": {},
   "outputs": [],
   "source": [
    "import tweepy #https://github.com/tweepy/tweepy\n",
    "import csv\n",
    "\n",
    "#Twitter API credentials\n",
    "consumerkey = \"xMqbF6gGhWHWPUg9xw5ziJZpK\"\n",
    "consumersecret = \"RPGgCCRFD2VpyfcPpEVjPbCYPlFIi2cTEImz6BNWzkIXGekibx\"\n",
    "accesskey = \"1119208863574708224-FwHs7oMskXgPAocqA81D5HrOdwV6tA\"\n",
    "accesssecret = \"hmlim46RNtaHkFBIHWYYKACAKsUtvsu59YViEjW0bnZ2J\"\n",
    "\n",
    "auth = tweepy.OAuthHandler(consumerkey, consumersecret)\n",
    "auth.set_access_token(accesskey, accesssecret)\n",
    "api = tweepy.API(auth)"
   ]
  },
  {
   "cell_type": "code",
   "execution_count": 12,
   "metadata": {},
   "outputs": [],
   "source": [
    "# First, let's authenticate\n",
    "\n",
    "authenticate_tweeter()"
   ]
  },
  {
   "cell_type": "code",
   "execution_count": 21,
   "metadata": {},
   "outputs": [
    {
     "data": {
      "text/plain": [
       "29554"
      ]
     },
     "execution_count": 21,
     "metadata": {},
     "output_type": "execute_result"
    }
   ],
   "source": [
    "import time\n",
    "screenname = 'meopt'\n",
    "\n",
    "ids = []\n",
    "for page in tweepy.Cursor(api.followers_ids, screen_name= screenname).pages():\n",
    "    ids.extend(page)\n",
    "    time.sleep(60)\n",
    "\n",
    "len(ids)"
   ]
  },
  {
   "cell_type": "code",
   "execution_count": 17,
   "metadata": {},
   "outputs": [
    {
     "data": {
      "text/plain": [
       "5000"
      ]
     },
     "execution_count": 17,
     "metadata": {},
     "output_type": "execute_result"
    }
   ],
   "source": [
    "len(pizzahut_followers)"
   ]
  },
  {
   "cell_type": "code",
   "execution_count": 22,
   "metadata": {},
   "outputs": [],
   "source": [
    "meo_pt_followers = ids"
   ]
  },
  {
   "cell_type": "code",
   "execution_count": 23,
   "metadata": {},
   "outputs": [],
   "source": [
    "import pandas as pd"
   ]
  },
  {
   "cell_type": "code",
   "execution_count": 26,
   "metadata": {},
   "outputs": [],
   "source": [
    "meo_followers = pd.DataFrame(meo_pt_followers)"
   ]
  },
  {
   "cell_type": "code",
   "execution_count": 27,
   "metadata": {},
   "outputs": [],
   "source": [
    "meo_followers.to_csv('meo_followers.csv')"
   ]
  },
  {
   "cell_type": "code",
   "execution_count": null,
   "metadata": {},
   "outputs": [],
   "source": [
    "def get_tweets(user_id, timeline) :\n",
    "    '''\n",
    "    :param user_id: the list_id as recognized by twitter\n",
    "    :param timeline: the dictionary that is pulled from user_timeline twitter API\n",
    "    :return: all the posts in dictionary format of a specified list_id\n",
    "    '''\n",
    "    # attribute lists\n",
    "    post_attrs = ['created_at', 'text', 'source', 'in_reply_to_screen_name', 'retweet_count', 'favorite_count',\n",
    "                  'favorited', 'retweeted', 'is_quote_status', 'retweeted_status']\n",
    "    entities_attrs = ['hashtags', 'symbols', 'user_mentions']     # creating empty dictionary, and specifying user id\n",
    "    post_dict = defaultdict(list)    for tweets in timeline :\n",
    "       post_dict['user_id'] = user_id\n",
    "           for post in list(post_attrs) :\n",
    "              if post == 'text' :\n",
    "                try :\n",
    "                    t = tweets[post]\n",
    "                    t = t.replace('\\n','')\n",
    "                    t = t.replace('\\r','')\n",
    "                    post_dict[post].append(t)\n",
    "                except :\n",
    "                    post_dict[post].append(np.nan)\n",
    "            else :\n",
    "                try :\n",
    "                    t = tweets[post]\n",
    "                    post_dict[post].append(t)\n",
    "                except :\n",
    "                    post_dict[post].append(np.nan)      # looping through other post attributes\n",
    "        for entity in entities_attrs :\n",
    "            try :\n",
    "                attr_name = 'len_' + entity\n",
    "                post_dict[entity].append(tweets['entities'][entity])\n",
    "                post_dict[attr_name].append(len(tweets['entities'][entity]))\n",
    "            except :\n",
    "                post_dict[entity].append(np.nan)\n",
    "    return post_dict"
   ]
  }
 ],
 "metadata": {
  "kernelspec": {
   "display_name": "Python 3",
   "language": "python",
   "name": "python3"
  },
  "language_info": {
   "codemirror_mode": {
    "name": "ipython",
    "version": 3
   },
   "file_extension": ".py",
   "mimetype": "text/x-python",
   "name": "python",
   "nbconvert_exporter": "python",
   "pygments_lexer": "ipython3",
   "version": "3.7.6"
  }
 },
 "nbformat": 4,
 "nbformat_minor": 4
}
